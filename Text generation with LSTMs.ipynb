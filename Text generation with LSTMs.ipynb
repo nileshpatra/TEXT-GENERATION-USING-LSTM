{
 "cells": [
  {
   "cell_type": "code",
   "execution_count": 1,
   "metadata": {},
   "outputs": [
    {
     "name": "stderr",
     "output_type": "stream",
     "text": [
      "Using TensorFlow backend.\n"
     ]
    }
   ],
   "source": [
    "import keras\n",
    "from keras.layers import Dense , LSTM , Dropout , Embedding\n",
    "from keras.preprocessing.text import Tokenizer\n",
    "from keras.preprocessing.sequence import pad_sequences\n",
    "from keras.models import Sequential\n",
    "\n",
    "from tensorflow import set_random_seed\n",
    "import numpy as np\n",
    "set_random_seed(2)\n",
    "np.random.seed(10)\n",
    "\n",
    "import pandas as pd\n",
    "import os\n",
    "\n",
    "import string"
   ]
  },
  {
   "cell_type": "code",
   "execution_count": 2,
   "metadata": {},
   "outputs": [
    {
     "data": {
      "text/plain": [
       "777"
      ]
     },
     "execution_count": 2,
     "metadata": {},
     "output_type": "execute_result"
    }
   ],
   "source": [
    "folder_path = os.path.dirname(os.path.abspath('__file__'))+'/nyt-comments'\n",
    "headlines = []\n",
    "for file in os.listdir(folder_path):\n",
    "    if 'Articles' in file :\n",
    "        data = pd.read_csv(folder_path + '/' + file)\n",
    "        headlines.extend(data.headline.values)\n",
    "        break\n",
    "headlines = [h for h in headlines if h!= 'Unknown']\n",
    "len(headlines)"
   ]
  },
  {
   "cell_type": "code",
   "execution_count": 3,
   "metadata": {},
   "outputs": [
    {
     "data": {
      "text/plain": [
       "' GOP Leadership Poised to Topple Obama’s Pillars'"
      ]
     },
     "execution_count": 3,
     "metadata": {},
     "output_type": "execute_result"
    }
   ],
   "source": [
    "''.join(h for h in headlines[0] if h not in string.punctuation)"
   ]
  },
  {
   "cell_type": "code",
   "execution_count": 4,
   "metadata": {},
   "outputs": [
    {
     "data": {
      "text/plain": [
       "[' gop leadership poised to topple obama’s pillars',\n",
       " 'fractured world tested the hope of a young president',\n",
       " 'little troublemakers',\n",
       " 'angela merkel russia’s next target',\n",
       " 'boots for a stranger on a bus',\n",
       " 'molder of navajo youth where a game is sacred',\n",
       " '‘the affair’ season 3 episode 6 noah goes home',\n",
       " 'sprint and mr trump’s fictional jobs',\n",
       " 'america  becomes a stan',\n",
       " 'fighting diabetes and leading by example']"
      ]
     },
     "execution_count": 4,
     "metadata": {},
     "output_type": "execute_result"
    }
   ],
   "source": [
    "final_text = []\n",
    "for headline in headlines:\n",
    "    txt = ''.join([h for h in headline if h not in string.punctuation]).lower()\n",
    "    final_text.append(txt)\n",
    "final_text[:10]"
   ]
  },
  {
   "cell_type": "code",
   "execution_count": 5,
   "metadata": {},
   "outputs": [
    {
     "data": {
      "text/plain": [
       "[[70, 300],\n",
       " [70, 300, 607],\n",
       " [70, 300, 607, 3],\n",
       " [70, 300, 607, 3, 608],\n",
       " [70, 300, 607, 3, 608, 203],\n",
       " [70, 300, 607, 3, 608, 203, 609],\n",
       " [610, 40],\n",
       " [610, 40, 611],\n",
       " [610, 40, 611, 1],\n",
       " [610, 40, 611, 1, 204]]"
      ]
     },
     "execution_count": 5,
     "metadata": {},
     "output_type": "execute_result"
    }
   ],
   "source": [
    "tokenize = Tokenizer()\n",
    "tokenize.fit_on_texts(final_text)\n",
    "total_words = len(tokenize.word_index) + 1\n",
    "input_sequences = []\n",
    "for line in final_text:\n",
    "    token_list = tokenize.texts_to_sequences([line])[0]\n",
    "    for i in range(1, len(token_list)):\n",
    "        n_gram_sequence = token_list[:i+1]\n",
    "        input_sequences.append(n_gram_sequence)\n",
    "input_sequences[:10]"
   ]
  },
  {
   "cell_type": "code",
   "execution_count": 6,
   "metadata": {},
   "outputs": [],
   "source": [
    "max_sequence_len = max([len(x) for x in input_sequences])\n",
    "input_sequences = np.array(pad_sequences(input_sequences, maxlen=max_sequence_len, padding='pre'))\n",
    "\n",
    "predictors, label = input_sequences[:,:-1],input_sequences[:,-1]\n",
    "label = keras.utils.to_categorical(label, num_classes=total_words)"
   ]
  },
  {
   "cell_type": "code",
   "execution_count": 7,
   "metadata": {},
   "outputs": [
    {
     "name": "stdout",
     "output_type": "stream",
     "text": [
      "WARNING:tensorflow:From /home/nilesh/anaconda3/lib/python3.7/site-packages/tensorflow/python/framework/op_def_library.py:263: colocate_with (from tensorflow.python.framework.ops) is deprecated and will be removed in a future version.\n",
      "Instructions for updating:\n",
      "Colocations handled automatically by placer.\n",
      "WARNING:tensorflow:From /home/nilesh/anaconda3/lib/python3.7/site-packages/keras/backend/tensorflow_backend.py:3445: calling dropout (from tensorflow.python.ops.nn_ops) with keep_prob is deprecated and will be removed in a future version.\n",
      "Instructions for updating:\n",
      "Please use `rate` instead of `keep_prob`. Rate should be set to `rate = 1 - keep_prob`.\n"
     ]
    }
   ],
   "source": [
    "model = Sequential()\n",
    "model.add(Embedding(total_words , 10 , input_length = max_sequence_len - 1))\n",
    "model.add(LSTM(100))\n",
    "model.add(Dropout(0.2))\n",
    "model.add(Dense(total_words , activation = 'softmax'))\n",
    "model.compile(optimizer = 'adam' , loss = 'categorical_crossentropy')"
   ]
  },
  {
   "cell_type": "code",
   "execution_count": 8,
   "metadata": {},
   "outputs": [
    {
     "name": "stdout",
     "output_type": "stream",
     "text": [
      "_________________________________________________________________\n",
      "Layer (type)                 Output Shape              Param #   \n",
      "=================================================================\n",
      "embedding_1 (Embedding)      (None, 21, 10)            22890     \n",
      "_________________________________________________________________\n",
      "lstm_1 (LSTM)                (None, 100)               44400     \n",
      "_________________________________________________________________\n",
      "dropout_1 (Dropout)          (None, 100)               0         \n",
      "_________________________________________________________________\n",
      "dense_1 (Dense)              (None, 2289)              231189    \n",
      "=================================================================\n",
      "Total params: 298,479\n",
      "Trainable params: 298,479\n",
      "Non-trainable params: 0\n",
      "_________________________________________________________________\n"
     ]
    }
   ],
   "source": [
    "model.summary()"
   ]
  },
  {
   "cell_type": "code",
   "execution_count": 9,
   "metadata": {},
   "outputs": [
    {
     "name": "stdout",
     "output_type": "stream",
     "text": [
      "WARNING:tensorflow:From /home/nilesh/anaconda3/lib/python3.7/site-packages/tensorflow/python/ops/math_ops.py:3066: to_int32 (from tensorflow.python.ops.math_ops) is deprecated and will be removed in a future version.\n",
      "Instructions for updating:\n",
      "Use tf.cast instead.\n",
      "Epoch 1/100\n",
      "4413/4413 [==============================] - 4s 887us/step - loss: 7.3266\n",
      "Epoch 2/100\n",
      "4413/4413 [==============================] - 2s 497us/step - loss: 6.8547\n",
      "Epoch 3/100\n",
      "4413/4413 [==============================] - 2s 564us/step - loss: 6.7463\n",
      "Epoch 4/100\n",
      "4413/4413 [==============================] - 3s 704us/step - loss: 6.6669\n",
      "Epoch 5/100\n",
      "4413/4413 [==============================] - 3s 701us/step - loss: 6.5853\n",
      "Epoch 6/100\n",
      "4413/4413 [==============================] - 3s 705us/step - loss: 6.5032\n",
      "Epoch 7/100\n",
      "4413/4413 [==============================] - 4s 849us/step - loss: 6.4078\n",
      "Epoch 8/100\n",
      "4413/4413 [==============================] - 4s 868us/step - loss: 6.3062\n",
      "Epoch 9/100\n",
      "4413/4413 [==============================] - 3s 760us/step - loss: 6.2041\n",
      "Epoch 10/100\n",
      "4413/4413 [==============================] - 3s 758us/step - loss: 6.1127\n",
      "Epoch 11/100\n",
      "4413/4413 [==============================] - 3s 751us/step - loss: 6.0240\n",
      "Epoch 12/100\n",
      "4413/4413 [==============================] - 3s 733us/step - loss: 5.9382\n",
      "Epoch 13/100\n",
      "4413/4413 [==============================] - 3s 711us/step - loss: 5.8465\n",
      "Epoch 14/100\n",
      "4413/4413 [==============================] - 3s 710us/step - loss: 5.7630\n",
      "Epoch 15/100\n",
      "4413/4413 [==============================] - 3s 734us/step - loss: 5.6736\n",
      "Epoch 16/100\n",
      "4413/4413 [==============================] - 3s 724us/step - loss: 5.5750\n",
      "Epoch 17/100\n",
      "4413/4413 [==============================] - 3s 745us/step - loss: 5.4838\n",
      "Epoch 18/100\n",
      "4413/4413 [==============================] - 3s 718us/step - loss: 5.3928\n",
      "Epoch 19/100\n",
      "4413/4413 [==============================] - 3s 723us/step - loss: 5.2976\n",
      "Epoch 20/100\n",
      "4413/4413 [==============================] - 3s 762us/step - loss: 5.2097\n",
      "Epoch 21/100\n",
      "4413/4413 [==============================] - 3s 755us/step - loss: 5.1274\n",
      "Epoch 22/100\n",
      "4413/4413 [==============================] - 3s 729us/step - loss: 5.0419\n",
      "Epoch 23/100\n",
      "4413/4413 [==============================] - 3s 729us/step - loss: 4.9621\n",
      "Epoch 24/100\n",
      "4413/4413 [==============================] - 3s 731us/step - loss: 4.8760\n",
      "Epoch 25/100\n",
      "4413/4413 [==============================] - 3s 734us/step - loss: 4.8002\n",
      "Epoch 26/100\n",
      "4413/4413 [==============================] - 3s 763us/step - loss: 4.7219\n",
      "Epoch 27/100\n",
      "4413/4413 [==============================] - 3s 742us/step - loss: 4.6475\n",
      "Epoch 28/100\n",
      "4413/4413 [==============================] - 3s 736us/step - loss: 4.5655\n",
      "Epoch 29/100\n",
      "4413/4413 [==============================] - 3s 737us/step - loss: 4.4916\n",
      "Epoch 30/100\n",
      "4413/4413 [==============================] - 3s 729us/step - loss: 4.4262\n",
      "Epoch 31/100\n",
      "4413/4413 [==============================] - 4s 845us/step - loss: 4.3516\n",
      "Epoch 32/100\n",
      "4413/4413 [==============================] - 3s 730us/step - loss: 4.2769\n",
      "Epoch 33/100\n",
      "4413/4413 [==============================] - 3s 725us/step - loss: 4.2138\n",
      "Epoch 34/100\n",
      "4413/4413 [==============================] - 3s 740us/step - loss: 4.1418\n",
      "Epoch 35/100\n",
      "4413/4413 [==============================] - 3s 732us/step - loss: 4.0781\n",
      "Epoch 36/100\n",
      "4413/4413 [==============================] - 3s 760us/step - loss: 4.0155\n",
      "Epoch 37/100\n",
      "4413/4413 [==============================] - 3s 733us/step - loss: 3.9420\n",
      "Epoch 38/100\n",
      "4413/4413 [==============================] - 3s 738us/step - loss: 3.8721\n",
      "Epoch 39/100\n",
      "4413/4413 [==============================] - 3s 737us/step - loss: 3.8259\n",
      "Epoch 40/100\n",
      "4413/4413 [==============================] - 3s 752us/step - loss: 3.7470\n",
      "Epoch 41/100\n",
      "4413/4413 [==============================] - 3s 760us/step - loss: 3.7091\n",
      "Epoch 42/100\n",
      "4413/4413 [==============================] - 3s 734us/step - loss: 3.6428\n",
      "Epoch 43/100\n",
      "4413/4413 [==============================] - 3s 733us/step - loss: 3.5814\n",
      "Epoch 44/100\n",
      "4413/4413 [==============================] - 3s 739us/step - loss: 3.5360\n",
      "Epoch 45/100\n",
      "4413/4413 [==============================] - 3s 766us/step - loss: 3.4844\n",
      "Epoch 46/100\n",
      "4413/4413 [==============================] - 3s 755us/step - loss: 3.4120\n",
      "Epoch 47/100\n",
      "4413/4413 [==============================] - 4s 808us/step - loss: 3.3606\n",
      "Epoch 48/100\n",
      "4413/4413 [==============================] - 3s 779us/step - loss: 3.3151\n",
      "Epoch 49/100\n",
      "4413/4413 [==============================] - 3s 783us/step - loss: 3.2731\n",
      "Epoch 50/100\n",
      "4413/4413 [==============================] - 3s 771us/step - loss: 3.2282\n",
      "Epoch 51/100\n",
      "4413/4413 [==============================] - 3s 726us/step - loss: 3.1693\n",
      "Epoch 52/100\n",
      "4413/4413 [==============================] - 3s 749us/step - loss: 3.1247\n",
      "Epoch 53/100\n",
      "4413/4413 [==============================] - 3s 738us/step - loss: 3.0814\n",
      "Epoch 54/100\n",
      "4413/4413 [==============================] - 3s 744us/step - loss: 3.0500\n",
      "Epoch 55/100\n",
      "4413/4413 [==============================] - 3s 747us/step - loss: 2.9994\n",
      "Epoch 56/100\n",
      "4413/4413 [==============================] - 3s 715us/step - loss: 2.9645\n",
      "Epoch 57/100\n",
      "4413/4413 [==============================] - 3s 741us/step - loss: 2.9264\n",
      "Epoch 58/100\n",
      "4413/4413 [==============================] - 3s 742us/step - loss: 2.8794\n",
      "Epoch 59/100\n",
      "4413/4413 [==============================] - 3s 737us/step - loss: 2.8357\n",
      "Epoch 60/100\n",
      "4413/4413 [==============================] - 3s 762us/step - loss: 2.7883\n",
      "Epoch 61/100\n",
      "4413/4413 [==============================] - 4s 856us/step - loss: 2.7602\n",
      "Epoch 62/100\n",
      "4413/4413 [==============================] - 3s 750us/step - loss: 2.7335\n",
      "Epoch 63/100\n",
      "4413/4413 [==============================] - 3s 775us/step - loss: 2.7043\n",
      "Epoch 64/100\n",
      "4413/4413 [==============================] - 3s 720us/step - loss: 2.6579\n",
      "Epoch 65/100\n",
      "4413/4413 [==============================] - 3s 751us/step - loss: 2.6423\n",
      "Epoch 66/100\n",
      "4413/4413 [==============================] - 3s 738us/step - loss: 2.5916\n",
      "Epoch 67/100\n",
      "4413/4413 [==============================] - 3s 738us/step - loss: 2.5549\n",
      "Epoch 68/100\n",
      "4413/4413 [==============================] - 3s 739us/step - loss: 2.5245\n",
      "Epoch 69/100\n",
      "4413/4413 [==============================] - 3s 759us/step - loss: 2.4992\n",
      "Epoch 70/100\n",
      "4413/4413 [==============================] - 3s 769us/step - loss: 2.4677\n",
      "Epoch 71/100\n",
      "4413/4413 [==============================] - 3s 744us/step - loss: 2.4454\n",
      "Epoch 72/100\n",
      "4413/4413 [==============================] - 3s 751us/step - loss: 2.4201\n",
      "Epoch 73/100\n",
      "4413/4413 [==============================] - 3s 753us/step - loss: 2.3852\n",
      "Epoch 74/100\n",
      "4413/4413 [==============================] - 3s 754us/step - loss: 2.3468\n",
      "Epoch 75/100\n",
      "4413/4413 [==============================] - 3s 753us/step - loss: 2.3249\n",
      "Epoch 76/100\n",
      "4413/4413 [==============================] - 3s 748us/step - loss: 2.3092\n",
      "Epoch 77/100\n",
      "4413/4413 [==============================] - 3s 742us/step - loss: 2.2801\n",
      "Epoch 78/100\n",
      "4413/4413 [==============================] - 3s 735us/step - loss: 2.2487\n",
      "Epoch 79/100\n",
      "4413/4413 [==============================] - 3s 756us/step - loss: 2.2314\n",
      "Epoch 80/100\n",
      "4413/4413 [==============================] - 3s 741us/step - loss: 2.2039\n",
      "Epoch 81/100\n",
      "4413/4413 [==============================] - 3s 758us/step - loss: 2.2027\n",
      "Epoch 82/100\n",
      "4413/4413 [==============================] - 3s 736us/step - loss: 2.1530\n",
      "Epoch 83/100\n",
      "4413/4413 [==============================] - 3s 751us/step - loss: 2.1267\n",
      "Epoch 84/100\n",
      "4413/4413 [==============================] - 3s 754us/step - loss: 2.0867\n",
      "Epoch 85/100\n",
      "4413/4413 [==============================] - 3s 723us/step - loss: 2.0967\n",
      "Epoch 86/100\n",
      "4413/4413 [==============================] - 3s 755us/step - loss: 2.0664\n",
      "Epoch 87/100\n",
      "4413/4413 [==============================] - 3s 752us/step - loss: 2.0357\n",
      "Epoch 88/100\n",
      "4413/4413 [==============================] - 3s 770us/step - loss: 2.0156\n",
      "Epoch 89/100\n",
      "4413/4413 [==============================] - 3s 748us/step - loss: 2.0001\n",
      "Epoch 90/100\n",
      "4413/4413 [==============================] - 3s 697us/step - loss: 1.9906\n",
      "Epoch 91/100\n",
      "4413/4413 [==============================] - 3s 699us/step - loss: 1.9507\n",
      "Epoch 92/100\n"
     ]
    },
    {
     "name": "stdout",
     "output_type": "stream",
     "text": [
      "4413/4413 [==============================] - 3s 653us/step - loss: 1.9433\n",
      "Epoch 93/100\n",
      "4413/4413 [==============================] - 3s 675us/step - loss: 1.9325\n",
      "Epoch 94/100\n",
      "4413/4413 [==============================] - 3s 688us/step - loss: 1.9010\n",
      "Epoch 95/100\n",
      "4413/4413 [==============================] - 3s 684us/step - loss: 1.8766\n",
      "Epoch 96/100\n",
      "4413/4413 [==============================] - 3s 679us/step - loss: 1.8542\n",
      "Epoch 97/100\n",
      "4413/4413 [==============================] - 3s 732us/step - loss: 1.8532\n",
      "Epoch 98/100\n",
      "4413/4413 [==============================] - 3s 723us/step - loss: 1.8241\n",
      "Epoch 99/100\n",
      "4413/4413 [==============================] - 3s 722us/step - loss: 1.8035\n",
      "Epoch 100/100\n",
      "4413/4413 [==============================] - 3s 726us/step - loss: 1.7989\n"
     ]
    },
    {
     "data": {
      "text/plain": [
       "<keras.callbacks.History at 0x7f7fa5a843c8>"
      ]
     },
     "execution_count": 9,
     "metadata": {},
     "output_type": "execute_result"
    }
   ],
   "source": [
    "model.fit(predictors , label , epochs = 100 , verbose = 1)"
   ]
  },
  {
   "cell_type": "code",
   "execution_count": 14,
   "metadata": {},
   "outputs": [],
   "source": [
    "def generate_text(seed_text, next_words, model, max_sequence_len):\n",
    "    for _ in range(next_words):\n",
    "        token_list = tokenize.texts_to_sequences([seed_text])[0]\n",
    "        token_list = pad_sequences([token_list], maxlen=max_sequence_len-1, padding='pre')\n",
    "        predicted = model.predict_classes(token_list, verbose=0)\n",
    "        \n",
    "        output_word = \"\"\n",
    "        for word,index in tokenize.word_index.items():\n",
    "            if index == predicted:\n",
    "                output_word = word\n",
    "                break\n",
    "        seed_text += \" \"+output_word\n",
    "    return seed_text.title()"
   ]
  },
  {
   "cell_type": "code",
   "execution_count": 17,
   "metadata": {},
   "outputs": [
    {
     "name": "stdout",
     "output_type": "stream",
     "text": [
      "Nilesh We Diet New\n",
      "America Leader To Fad Found\n",
      "India Going On The Lights Go\n",
      "Uk We Diet New Year\n",
      "History Trump Not A Little Downside Of The ‘Galloping Gourmet’ Forged In\n"
     ]
    }
   ],
   "source": [
    "print(generate_text('Nilesh' , 3 , model , max_sequence_len))\n",
    "print(generate_text('america' , 4 , model , max_sequence_len))\n",
    "print(generate_text('India' , 5 , model , max_sequence_len))\n",
    "print(generate_text('UK' , 4 , model , max_sequence_len))\n",
    "print(generate_text('History' , 11 , model , max_sequence_len))"
   ]
  }
 ],
 "metadata": {
  "kernelspec": {
   "display_name": "Python 3",
   "language": "python",
   "name": "python3"
  },
  "language_info": {
   "codemirror_mode": {
    "name": "ipython",
    "version": 3
   },
   "file_extension": ".py",
   "mimetype": "text/x-python",
   "name": "python",
   "nbconvert_exporter": "python",
   "pygments_lexer": "ipython3",
   "version": "3.7.1"
  }
 },
 "nbformat": 4,
 "nbformat_minor": 2
}
